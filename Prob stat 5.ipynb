{
 "cells": [
  {
   "cell_type": "code",
   "execution_count": 1,
   "id": "db541862",
   "metadata": {},
   "outputs": [
    {
     "name": "stdout",
     "output_type": "stream",
     "text": [
      "Probabilitas tinggi kurang dari 189cm:  0.8413447460685429\n"
     ]
    }
   ],
   "source": [
    "from scipy.stats import norm\n",
    "\n",
    "mean=184 \n",
    "std_dev = 5\n",
    "\n",
    "height = 189\n",
    "prob_less_than_189 = norm.cdf(height, mean, std_dev)\n",
    "\n",
    "print(\"Probabilitas tinggi kurang dari 189cm: \", prob_less_than_189)"
   ]
  },
  {
   "cell_type": "code",
   "execution_count": 2,
   "id": "882034b1",
   "metadata": {},
   "outputs": [
    {
     "name": "stdout",
     "output_type": "stream",
     "text": [
      "Probabilitas itnggi antara 174cm dan 199cm:  0.9758999700201907\n"
     ]
    }
   ],
   "source": [
    "from scipy.stats import norm\n",
    "\n",
    "mean = 184 \n",
    "std_dev = 5\n",
    "\n",
    "prob_less_than_174 = norm.cdf(174, mean, std_dev)\n",
    "\n",
    "prob_less_than_199 = norm.cdf(199, mean, std_dev)\n",
    "\n",
    "prob_between_174_and_199 = prob_less_than_199 - prob_less_than_174\n",
    "\n",
    "print(\"Probabilitas itnggi antara 174cm dan 199cm: \", prob_between_174_and_199)"
   ]
  },
  {
   "cell_type": "code",
   "execution_count": 3,
   "id": "b8a29289",
   "metadata": {},
   "outputs": [
    {
     "name": "stdout",
     "output_type": "stream",
     "text": [
      "Peluang apel yang berkualitas not good: 0.0595\n"
     ]
    }
   ],
   "source": [
    "from scipy.stats import norm\n",
    "\n",
    "mean=173 \n",
    "std_dev = 34 \n",
    "\n",
    "prob_not_good = norm.cdf(120, mean, std_dev)\n",
    "\n",
    "print(\"Peluang apel yang berkualitas not good: {:.4f}\".format(prob_not_good))"
   ]
  },
  {
   "cell_type": "code",
   "execution_count": 4,
   "id": "f9c6a959",
   "metadata": {},
   "outputs": [
    {
     "name": "stdout",
     "output_type": "stream",
     "text": [
      "Rata rata jumlah pelanggan dalam sistem (L): 4.00\n",
      "Rata rata waktu setiap pelanggan berada dalam sistem (W): 40.00\n"
     ]
    }
   ],
   "source": [
    "arrival_rate = 1/10 \n",
    "service_rate = 1/8 \n",
    "\n",
    "L=arrival_rate / (service_rate - arrival_rate)\n",
    "\n",
    "W = L / arrival_rate\n",
    "\n",
    "print(\"Rata rata jumlah pelanggan dalam sistem (L): {:.2f}\".format(L))\n",
    "print(\"Rata rata waktu setiap pelanggan berada dalam sistem (W): {:.2f}\".format(W))"
   ]
  },
  {
   "cell_type": "code",
   "execution_count": 6,
   "id": "20637540",
   "metadata": {},
   "outputs": [
    {
     "name": "stdout",
     "output_type": "stream",
     "text": [
      "peluang seseorang dilayani antara 3 sampai 5 menit : 0.1618974\n"
     ]
    }
   ],
   "source": [
    "from scipy.stats import expon\n",
    "\n",
    "mean_service_time = 7\n",
    "\n",
    "prob_3_and_5 = expon.cdf(5, scale = mean_service_time) - expon.cdf(3, scale = mean_service_time)\n",
    "\n",
    "print('peluang seseorang dilayani antara 3 sampai 5 menit : {:.7f}'.format(prob_3_and_5))"
   ]
  },
  {
   "cell_type": "code",
   "execution_count": 7,
   "id": "44f2368f",
   "metadata": {},
   "outputs": [
    {
     "name": "stdout",
     "output_type": "stream",
     "text": [
      "Peluang lebih dari 6 pelanggan akan tiba dalma periode 2 menit berikutnya: 0.8698586\n"
     ]
    }
   ],
   "source": [
    "from scipy.stats import poisson\n",
    "\n",
    "#rata rata pelanggan per menit ()\n",
    "mean_arrival_rate = 5\n",
    "\n",
    "#menghitung peluang lebih dari 6 pelanggan tiba dalma periode 2 menit\n",
    "prob_morethan_6_arrivals = 1 - poisson.cdf(6, mu=mean_arrival_rate * 2)\n",
    "\n",
    "#menampilkan hasil\n",
    "print(\"Peluang lebih dari 6 pelanggan akan tiba dalma periode 2 menit berikutnya: {:.7f}\".format(prob_morethan_6_arrivals))"
   ]
  },
  {
   "cell_type": "code",
   "execution_count": 9,
   "id": "bfbcf714",
   "metadata": {},
   "outputs": [
    {
     "name": "stdout",
     "output_type": "stream",
     "text": [
      "Tinggi sedemikian rupa sehingga 16,85% pemain basket lebih tinggi dari 188.80 cm\n"
     ]
    }
   ],
   "source": [
    "from scipy.stats import norm\n",
    "\n",
    "mean = 184\n",
    "std_dev = 5\n",
    "prob_more_than = 0.1685\n",
    "\n",
    "height = norm.ppf(1 - prob_more_than, mean, std_dev)\n",
    "\n",
    "print(\"Tinggi sedemikian rupa sehingga 16,85% pemain basket lebih tinggi dari {:.2f} cm\".format(height))"
   ]
  },
  {
   "cell_type": "code",
   "execution_count": 10,
   "id": "90358508",
   "metadata": {},
   "outputs": [
    {
     "name": "stdout",
     "output_type": "stream",
     "text": [
      "Probabilitas kurang dari atau sama dengan 2 apel berkualitas 'not good': 0.99\n"
     ]
    }
   ],
   "source": [
    "from scipy.stats import binom\n",
    "\n",
    "n = 8\n",
    "p = 0.06\n",
    "\n",
    "prob_not_good_2_or_less = binom.cdf(2, n, p)\n",
    "\n",
    "print(\"Probabilitas kurang dari atau sama dengan 2 apel berkualitas 'not good': {:.2f}\".format(prob_not_good_2_or_less))"
   ]
  },
  {
   "cell_type": "code",
   "execution_count": 12,
   "id": "d5f0084d",
   "metadata": {},
   "outputs": [
    {
     "name": "stdout",
     "output_type": "stream",
     "text": [
      "Rata-rata jumlah pelanggan dalam sistem (L) setelah perubahan: 1.00\n",
      "Rata-rata waktu setiap pelanggan berada dalam sistem (W) setelah perubahan: 16.00\n"
     ]
    }
   ],
   "source": [
    "arrival_rate_new = 1/16\n",
    "\n",
    "L_new = arrival_rate_new / (service_rate - arrival_rate_new)\n",
    "\n",
    "W_new = L_new / arrival_rate_new\n",
    "\n",
    "print(\"Rata-rata jumlah pelanggan dalam sistem (L) setelah perubahan: {:.2f}\".format(L_new))\n",
    "print(\"Rata-rata waktu setiap pelanggan berada dalam sistem (W) setelah perubahan: {:.2f}\".format(W_new))"
   ]
  },
  {
   "cell_type": "code",
   "execution_count": 14,
   "id": "138b83c3",
   "metadata": {},
   "outputs": [
    {
     "name": "stdout",
     "output_type": "stream",
     "text": [
      "Peluang seseorang mendapatkan pelayanan lebih dari 8 menit: 0.3189066\n"
     ]
    }
   ],
   "source": [
    "from scipy.stats import expon\n",
    "\n",
    "mean_service_time = 7  # menit\n",
    "\n",
    "prob_more_than_8_minutes = 1 - expon.cdf(8, scale=mean_service_time)\n",
    "\n",
    "print(\"Peluang seseorang mendapatkan pelayanan lebih dari 8 menit: {:.7f}\".format(prob_more_than_8_minutes))"
   ]
  },
  {
   "cell_type": "code",
   "execution_count": 15,
   "id": "b0c16a31",
   "metadata": {},
   "outputs": [
    {
     "name": "stdout",
     "output_type": "stream",
     "text": [
      "Peluang bahwa dalam 1 menit berikutnya terdapat tepat 4 pelanggan yang akan datang: 0.18\n"
     ]
    }
   ],
   "source": [
    "from scipy.stats import poisson\n",
    "\n",
    "mean_arrival_rate = 5\n",
    "\n",
    "prob_4_arrivals = poisson.pmf(4, mu=mean_arrival_rate)\n",
    "\n",
    "print(\"Peluang bahwa dalam 1 menit berikutnya terdapat tepat 4 pelanggan yang akan datang: {:.2f}\".format(prob_4_arrivals))"
   ]
  },
  {
   "cell_type": "code",
   "execution_count": 16,
   "id": "9835fa4a",
   "metadata": {},
   "outputs": [
    {
     "name": "stdout",
     "output_type": "stream",
     "text": [
      "Rata-rata jumlah kedatangan selama periode 1 jam: 300.00\n"
     ]
    }
   ],
   "source": [
    "mean_arrival_rate = 5\n",
    "\n",
    "mean_arrivals_per_hour = mean_arrival_rate * 60 \n",
    "\n",
    "print(\"Rata-rata jumlah kedatangan selama periode 1 jam: {:.2f}\".format(mean_arrivals_per_hour))"
   ]
  },
  {
   "cell_type": "code",
   "execution_count": null,
   "id": "e9b11f20",
   "metadata": {},
   "outputs": [],
   "source": []
  }
 ],
 "metadata": {
  "kernelspec": {
   "display_name": "Python 3 (ipykernel)",
   "language": "python",
   "name": "python3"
  },
  "language_info": {
   "codemirror_mode": {
    "name": "ipython",
    "version": 3
   },
   "file_extension": ".py",
   "mimetype": "text/x-python",
   "name": "python",
   "nbconvert_exporter": "python",
   "pygments_lexer": "ipython3",
   "version": "3.11.4"
  }
 },
 "nbformat": 4,
 "nbformat_minor": 5
}
